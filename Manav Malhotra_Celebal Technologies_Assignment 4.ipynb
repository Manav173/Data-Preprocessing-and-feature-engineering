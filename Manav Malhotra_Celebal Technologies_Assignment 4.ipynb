{
 "cells": [
  {
   "cell_type": "code",
   "execution_count": 1,
   "id": "61a36819-e89b-4284-8d8d-e7511ee31ffb",
   "metadata": {},
   "outputs": [],
   "source": [
    "import numpy as np\n",
    "import pandas as pd\n",
    "from sklearn.neighbors import LocalOutlierFactor\n",
    "from matplotlib import pyplot as plt"
   ]
  },
  {
   "cell_type": "code",
   "execution_count": 3,
   "id": "3ad2e1c2-69ca-4f78-8a06-60f44e78f4f3",
   "metadata": {},
   "outputs": [],
   "source": [
    "# Load the application_train dataset\n",
    "def load_application_train():\n",
    "    data = pd.read_csv(\"application_train.csv\")\n",
    "    return data"
   ]
  },
  {
   "cell_type": "code",
   "execution_count": 5,
   "id": "44980f36-2479-44a8-b875-637f2846d257",
   "metadata": {},
   "outputs": [
    {
     "name": "stdout",
     "output_type": "stream",
     "text": [
      "(307511, 122)\n"
     ]
    }
   ],
   "source": [
    "# Load the dataset\n",
    "df = load_application_train()\n",
    "print(df.shape) "
   ]
  },
  {
   "cell_type": "code",
   "execution_count": 7,
   "id": "de993a78-6e4c-4bc0-bd80-3f7bc6deb47c",
   "metadata": {},
   "outputs": [],
   "source": [
    "# Function to grab column names\n",
    "def grab_col_names(dataframe, cat_th=10, car_th=20):\n",
    "    cat_cols = [col for col in dataframe.columns if dataframe[col].dtypes == \"O\"]\n",
    "    num_but_cat = [col for col in dataframe.columns if dataframe[col].nunique() < cat_th and dataframe[col].dtypes != \"O\"]\n",
    "    cat_but_car = [col for col in dataframe.columns if dataframe[col].nunique() > car_th and dataframe[col].dtypes == \"O\"]\n",
    "    cat_cols = cat_cols + num_but_cat\n",
    "    cat_cols = [col for col in cat_cols if col not in cat_but_car]\n",
    "    num_cols = [col for col in dataframe.columns if dataframe[col].dtypes != \"O\" and col not in num_but_cat]\n",
    "\n",
    "    print(f\"Observations: {dataframe.shape[0]}\")\n",
    "    print(f\"Variables: {dataframe.shape[1]}\")\n",
    "    print(f\"cat_cols: {len(cat_cols)}\")\n",
    "    print(f\"num_cols: {len(num_cols)}\")\n",
    "    print(f\"cat_but_car: {len(cat_but_car)}\")\n",
    "    print(f\"num_but_cat: {len(num_but_cat)}\")\n",
    "\n",
    "    return cat_cols, num_cols, cat_but_car"
   ]
  },
  {
   "cell_type": "code",
   "execution_count": 9,
   "id": "95458875-d28e-4d02-a3eb-a3a31f30de69",
   "metadata": {},
   "outputs": [
    {
     "name": "stdout",
     "output_type": "stream",
     "text": [
      "Observations: 307511\n",
      "Variables: 122\n",
      "cat_cols: 54\n",
      "num_cols: 67\n",
      "cat_but_car: 1\n",
      "num_but_cat: 39\n"
     ]
    }
   ],
   "source": [
    "# Grab column names\n",
    "cat_cols, num_cols, cat_but_car = grab_col_names(df)\n",
    "\n",
    "# Remove the irrelevant column 'SK_ID_CURR' from numerical columns\n",
    "num_cols.remove('SK_ID_CURR')"
   ]
  },
  {
   "cell_type": "code",
   "execution_count": 11,
   "id": "9c5a2d9a-fcc2-4333-968e-a0776c3d9abf",
   "metadata": {},
   "outputs": [],
   "source": [
    "# Function to calculate outlier thresholds\n",
    "def outlier_thresholds(dataframe, col_name, q1=0.25, q3=0.75):\n",
    "    quartile1 = dataframe[col_name].quantile(q1)\n",
    "    quartile3 = dataframe[col_name].quantile(q3)\n",
    "    interquantile_range = quartile3 - quartile1\n",
    "    up_limit = quartile3 + 1.5 * interquantile_range\n",
    "    low_limit = quartile1 - 1.5 * interquantile_range\n",
    "    return low_limit, up_limit"
   ]
  },
  {
   "cell_type": "code",
   "execution_count": 13,
   "id": "f291ed29-dd8b-4ad1-af8f-28f563505ab8",
   "metadata": {},
   "outputs": [],
   "source": [
    "# Function to check for outliers\n",
    "def check_outlier(dataframe, col_name):\n",
    "    low_limit, up_limit = outlier_thresholds(dataframe, col_name)\n",
    "    if dataframe[(dataframe[col_name] > up_limit) | (dataframe[col_name] < low_limit)].any(axis=None):\n",
    "        return True\n",
    "    else:\n",
    "        return False"
   ]
  },
  {
   "cell_type": "code",
   "execution_count": 15,
   "id": "561c0f4a-7af5-4a5c-8f8e-c8fb3535c856",
   "metadata": {},
   "outputs": [],
   "source": [
    "# Function to grab outliers\n",
    "def grab_outliers(dataframe, col_name, outlier_index=False, f = 5):\n",
    "    low, up = outlier_thresholds(dataframe, col_name)\n",
    "    outliers = dataframe[((dataframe[col_name] < low) | (dataframe[col_name] > up))]\n",
    "    \n",
    "    if outliers.shape[0] > 10:\n",
    "        print(outliers.head(f))\n",
    "    else:\n",
    "        print(outliers)\n",
    "    \n",
    "    if outlier_index:\n",
    "        out_index = outliers.index\n",
    "        return out_index"
   ]
  },
  {
   "cell_type": "code",
   "execution_count": 17,
   "id": "2311f94f-063e-4016-83c1-38df6d3358f2",
   "metadata": {},
   "outputs": [],
   "source": [
    "# Function to remove outliers\n",
    "def remove_outlier(dataframe, col_name):\n",
    "    low_limit, up_limit = outlier_thresholds(dataframe, col_name)\n",
    "    df_without_outliers = dataframe[~((dataframe[col_name] < low_limit) | (dataframe[col_name] > up_limit))]\n",
    "    return df_without_outliers"
   ]
  },
  {
   "cell_type": "code",
   "execution_count": 19,
   "id": "3ad6851f-930e-4302-ae24-c065dc455b11",
   "metadata": {},
   "outputs": [],
   "source": [
    "# Function to replace outliers with thresholds\n",
    "def replace_with_thresholds(dataframe, variable):\n",
    "    low_limit, up_limit = outlier_thresholds(dataframe, variable)\n",
    "    dataframe.loc[(dataframe[variable] < low_limit), variable] = low_limit\n",
    "    dataframe.loc[(dataframe[variable] > up_limit), variable] = up_limit"
   ]
  },
  {
   "cell_type": "code",
   "execution_count": 21,
   "id": "f22a8efa-034d-4e9e-90be-ef97a736d2d2",
   "metadata": {},
   "outputs": [
    {
     "name": "stdout",
     "output_type": "stream",
     "text": [
      "CNT_CHILDREN: True\n",
      "AMT_INCOME_TOTAL: True\n",
      "AMT_CREDIT: True\n",
      "AMT_ANNUITY: True\n",
      "AMT_GOODS_PRICE: True\n",
      "REGION_POPULATION_RELATIVE: True\n",
      "DAYS_BIRTH: False\n",
      "DAYS_EMPLOYED: True\n",
      "DAYS_REGISTRATION: True\n",
      "DAYS_ID_PUBLISH: False\n",
      "OWN_CAR_AGE: True\n",
      "CNT_FAM_MEMBERS: True\n",
      "HOUR_APPR_PROCESS_START: True\n",
      "EXT_SOURCE_1: False\n",
      "EXT_SOURCE_2: False\n",
      "EXT_SOURCE_3: False\n",
      "APARTMENTS_AVG: True\n",
      "BASEMENTAREA_AVG: True\n",
      "YEARS_BEGINEXPLUATATION_AVG: True\n",
      "YEARS_BUILD_AVG: True\n",
      "COMMONAREA_AVG: True\n",
      "ELEVATORS_AVG: True\n",
      "ENTRANCES_AVG: True\n",
      "FLOORSMAX_AVG: True\n",
      "FLOORSMIN_AVG: True\n",
      "LANDAREA_AVG: True\n",
      "LIVINGAPARTMENTS_AVG: True\n",
      "LIVINGAREA_AVG: True\n",
      "NONLIVINGAPARTMENTS_AVG: True\n",
      "NONLIVINGAREA_AVG: True\n",
      "APARTMENTS_MODE: True\n",
      "BASEMENTAREA_MODE: True\n",
      "YEARS_BEGINEXPLUATATION_MODE: True\n",
      "YEARS_BUILD_MODE: True\n",
      "COMMONAREA_MODE: True\n",
      "ELEVATORS_MODE: True\n",
      "ENTRANCES_MODE: True\n",
      "FLOORSMAX_MODE: True\n",
      "FLOORSMIN_MODE: True\n",
      "LANDAREA_MODE: True\n",
      "LIVINGAPARTMENTS_MODE: True\n",
      "LIVINGAREA_MODE: True\n",
      "NONLIVINGAPARTMENTS_MODE: True\n",
      "NONLIVINGAREA_MODE: True\n",
      "APARTMENTS_MEDI: True\n",
      "BASEMENTAREA_MEDI: True\n",
      "YEARS_BEGINEXPLUATATION_MEDI: True\n",
      "YEARS_BUILD_MEDI: True\n",
      "COMMONAREA_MEDI: True\n",
      "ELEVATORS_MEDI: True\n",
      "ENTRANCES_MEDI: True\n",
      "FLOORSMAX_MEDI: True\n",
      "FLOORSMIN_MEDI: True\n",
      "LANDAREA_MEDI: True\n",
      "LIVINGAPARTMENTS_MEDI: True\n",
      "LIVINGAREA_MEDI: True\n",
      "NONLIVINGAPARTMENTS_MEDI: True\n",
      "NONLIVINGAREA_MEDI: True\n",
      "TOTALAREA_MODE: True\n",
      "OBS_30_CNT_SOCIAL_CIRCLE: True\n",
      "DEF_30_CNT_SOCIAL_CIRCLE: True\n",
      "OBS_60_CNT_SOCIAL_CIRCLE: True\n",
      "DAYS_LAST_PHONE_CHANGE: True\n",
      "AMT_REQ_CREDIT_BUREAU_MON: True\n",
      "AMT_REQ_CREDIT_BUREAU_QRT: True\n",
      "AMT_REQ_CREDIT_BUREAU_YEAR: True\n"
     ]
    }
   ],
   "source": [
    "# Check which numerical columns have outliers\n",
    "for col in num_cols:\n",
    "    print(f'{col}: {check_outlier(df, col)}')"
   ]
  },
  {
   "cell_type": "code",
   "execution_count": 23,
   "id": "5de4a7d2-9ba3-4eaa-83a7-f3f38e4909aa",
   "metadata": {},
   "outputs": [
    {
     "name": "stdout",
     "output_type": "stream",
     "text": [
      "\n",
      "Outliers in 'CNT_CHILDREN':\n",
      "     SK_ID_CURR  TARGET NAME_CONTRACT_TYPE CODE_GENDER FLAG_OWN_CAR  \\\n",
      "91       100108       0         Cash loans           F            N   \n",
      "92       100110       0         Cash loans           M            Y   \n",
      "144      100166       0         Cash loans           F            N   \n",
      "180      100209       1    Revolving loans           M            N   \n",
      "182      100211       0         Cash loans           M            N   \n",
      "\n",
      "    FLAG_OWN_REALTY  CNT_CHILDREN  AMT_INCOME_TOTAL  AMT_CREDIT  AMT_ANNUITY  \\\n",
      "91                Y             3          171000.0    545040.0      31288.5   \n",
      "92                Y             3          135000.0    373140.0      25065.0   \n",
      "144               Y             3           58500.0    152820.0      15241.5   \n",
      "180               Y             3          180000.0    540000.0      27000.0   \n",
      "182               N             3          225000.0    746280.0      49873.5   \n",
      "\n",
      "     ...  FLAG_DOCUMENT_18 FLAG_DOCUMENT_19 FLAG_DOCUMENT_20 FLAG_DOCUMENT_21  \\\n",
      "91   ...                 0                0                0                0   \n",
      "92   ...                 0                0                0                0   \n",
      "144  ...                 0                0                0                0   \n",
      "180  ...                 0                0                0                0   \n",
      "182  ...                 0                0                0                0   \n",
      "\n",
      "    AMT_REQ_CREDIT_BUREAU_HOUR AMT_REQ_CREDIT_BUREAU_DAY  \\\n",
      "91                         0.0                       0.0   \n",
      "92                         0.0                       0.0   \n",
      "144                        0.0                       0.0   \n",
      "180                        0.0                       0.0   \n",
      "182                        0.0                       0.0   \n",
      "\n",
      "     AMT_REQ_CREDIT_BUREAU_WEEK  AMT_REQ_CREDIT_BUREAU_MON  \\\n",
      "91                          0.0                        0.0   \n",
      "92                          0.0                        0.0   \n",
      "144                         0.0                        0.0   \n",
      "180                         0.0                        0.0   \n",
      "182                         0.0                        0.0   \n",
      "\n",
      "     AMT_REQ_CREDIT_BUREAU_QRT  AMT_REQ_CREDIT_BUREAU_YEAR  \n",
      "91                         0.0                         0.0  \n",
      "92                         1.0                         2.0  \n",
      "144                        0.0                         4.0  \n",
      "180                        0.0                         2.0  \n",
      "182                        0.0                         6.0  \n",
      "\n",
      "[5 rows x 122 columns]\n"
     ]
    }
   ],
   "source": [
    "# Display outliers for a few columns\n",
    "print(\"\\nOutliers in 'CNT_CHILDREN':\")\n",
    "grab_outliers(df, \"CNT_CHILDREN\")"
   ]
  },
  {
   "cell_type": "code",
   "execution_count": 25,
   "id": "1dcb0961-c78f-4aec-85b5-8e75a1b41717",
   "metadata": {},
   "outputs": [
    {
     "name": "stdout",
     "output_type": "stream",
     "text": [
      "\n",
      "Outliers in 'AMT_INCOME_TOTAL':\n",
      "    SK_ID_CURR  TARGET NAME_CONTRACT_TYPE CODE_GENDER FLAG_OWN_CAR  \\\n",
      "7       100010       0         Cash loans           M            Y   \n",
      "22      100026       0         Cash loans           F            N   \n",
      "33      100039       0         Cash loans           M            Y   \n",
      "49      100056       0         Cash loans           M            Y   \n",
      "51      100059       0         Cash loans           M            Y   \n",
      "\n",
      "   FLAG_OWN_REALTY  CNT_CHILDREN  AMT_INCOME_TOTAL  AMT_CREDIT  AMT_ANNUITY  \\\n",
      "7                Y             0          360000.0   1530000.0      42075.0   \n",
      "22               N             1          450000.0    497520.0      32521.5   \n",
      "33               N             1          360000.0    733315.5      39069.0   \n",
      "49               Y             0          360000.0   1506816.0      49927.5   \n",
      "51               Y             1          540000.0    675000.0      34596.0   \n",
      "\n",
      "    ...  FLAG_DOCUMENT_18 FLAG_DOCUMENT_19 FLAG_DOCUMENT_20 FLAG_DOCUMENT_21  \\\n",
      "7   ...                 0                0                0                0   \n",
      "22  ...                 0                0                0                0   \n",
      "33  ...                 0                0                0                0   \n",
      "49  ...                 0                0                0                0   \n",
      "51  ...                 0                0                0                0   \n",
      "\n",
      "   AMT_REQ_CREDIT_BUREAU_HOUR AMT_REQ_CREDIT_BUREAU_DAY  \\\n",
      "7                         0.0                       0.0   \n",
      "22                        0.0                       0.0   \n",
      "33                        0.0                       0.0   \n",
      "49                        NaN                       NaN   \n",
      "51                        0.0                       0.0   \n",
      "\n",
      "    AMT_REQ_CREDIT_BUREAU_WEEK  AMT_REQ_CREDIT_BUREAU_MON  \\\n",
      "7                          0.0                        0.0   \n",
      "22                         0.0                        0.0   \n",
      "33                         0.0                        0.0   \n",
      "49                         NaN                        NaN   \n",
      "51                         1.0                        0.0   \n",
      "\n",
      "    AMT_REQ_CREDIT_BUREAU_QRT  AMT_REQ_CREDIT_BUREAU_YEAR  \n",
      "7                         0.0                         0.0  \n",
      "22                        0.0                         5.0  \n",
      "33                        1.0                         1.0  \n",
      "49                        NaN                         NaN  \n",
      "51                        0.0                         3.0  \n",
      "\n",
      "[5 rows x 122 columns]\n"
     ]
    }
   ],
   "source": [
    "print(\"\\nOutliers in 'AMT_INCOME_TOTAL':\")\n",
    "grab_outliers(df, \"AMT_INCOME_TOTAL\")"
   ]
  },
  {
   "cell_type": "code",
   "execution_count": 27,
   "id": "92f4ae54-39e3-44ae-8a2c-c72b549f0914",
   "metadata": {},
   "outputs": [
    {
     "name": "stdout",
     "output_type": "stream",
     "text": [
      "\n",
      "Shape after removing outliers: (68454, 122)\n"
     ]
    }
   ],
   "source": [
    "# Remove outliers from numerical columns\n",
    "for col in num_cols:\n",
    "    df = remove_outlier(df, col)\n",
    "\n",
    "print(\"\\nShape after removing outliers:\", df.shape)"
   ]
  },
  {
   "cell_type": "code",
   "execution_count": 29,
   "id": "65f7f558-43a2-4338-8fd0-76d4d3d44bff",
   "metadata": {},
   "outputs": [
    {
     "name": "stdout",
     "output_type": "stream",
     "text": [
      "CNT_CHILDREN: False\n",
      "AMT_INCOME_TOTAL: True\n",
      "AMT_CREDIT: True\n",
      "AMT_ANNUITY: True\n",
      "AMT_GOODS_PRICE: False\n",
      "REGION_POPULATION_RELATIVE: False\n",
      "DAYS_BIRTH: False\n",
      "DAYS_EMPLOYED: True\n",
      "DAYS_REGISTRATION: True\n",
      "DAYS_ID_PUBLISH: False\n",
      "OWN_CAR_AGE: True\n",
      "CNT_FAM_MEMBERS: False\n",
      "HOUR_APPR_PROCESS_START: True\n",
      "EXT_SOURCE_1: False\n",
      "EXT_SOURCE_2: False\n",
      "EXT_SOURCE_3: False\n",
      "APARTMENTS_AVG: True\n",
      "BASEMENTAREA_AVG: False\n",
      "YEARS_BEGINEXPLUATATION_AVG: True\n",
      "YEARS_BUILD_AVG: False\n",
      "COMMONAREA_AVG: True\n",
      "ELEVATORS_AVG: True\n",
      "ENTRANCES_AVG: False\n",
      "FLOORSMAX_AVG: False\n",
      "FLOORSMIN_AVG: False\n",
      "LANDAREA_AVG: True\n",
      "LIVINGAPARTMENTS_AVG: False\n",
      "LIVINGAREA_AVG: False\n",
      "NONLIVINGAPARTMENTS_AVG: True\n",
      "NONLIVINGAREA_AVG: True\n",
      "APARTMENTS_MODE: False\n",
      "BASEMENTAREA_MODE: False\n",
      "YEARS_BEGINEXPLUATATION_MODE: True\n",
      "YEARS_BUILD_MODE: False\n",
      "COMMONAREA_MODE: True\n",
      "ELEVATORS_MODE: False\n",
      "ENTRANCES_MODE: False\n",
      "FLOORSMAX_MODE: False\n",
      "FLOORSMIN_MODE: False\n",
      "LANDAREA_MODE: True\n",
      "LIVINGAPARTMENTS_MODE: False\n",
      "LIVINGAREA_MODE: False\n",
      "NONLIVINGAPARTMENTS_MODE: False\n",
      "NONLIVINGAREA_MODE: False\n",
      "APARTMENTS_MEDI: False\n",
      "BASEMENTAREA_MEDI: False\n",
      "YEARS_BEGINEXPLUATATION_MEDI: True\n",
      "YEARS_BUILD_MEDI: False\n",
      "COMMONAREA_MEDI: True\n",
      "ELEVATORS_MEDI: False\n",
      "ENTRANCES_MEDI: False\n",
      "FLOORSMAX_MEDI: False\n",
      "FLOORSMIN_MEDI: False\n",
      "LANDAREA_MEDI: True\n",
      "LIVINGAPARTMENTS_MEDI: False\n",
      "LIVINGAREA_MEDI: False\n",
      "NONLIVINGAPARTMENTS_MEDI: False\n",
      "NONLIVINGAREA_MEDI: False\n",
      "TOTALAREA_MODE: False\n",
      "OBS_30_CNT_SOCIAL_CIRCLE: True\n",
      "DEF_30_CNT_SOCIAL_CIRCLE: False\n",
      "OBS_60_CNT_SOCIAL_CIRCLE: False\n",
      "DAYS_LAST_PHONE_CHANGE: True\n",
      "AMT_REQ_CREDIT_BUREAU_MON: False\n",
      "AMT_REQ_CREDIT_BUREAU_QRT: False\n",
      "AMT_REQ_CREDIT_BUREAU_YEAR: False\n"
     ]
    }
   ],
   "source": [
    "# Check again for outliers\n",
    "for col in num_cols:\n",
    "    print(f'{col}: {check_outlier(df, col)}')"
   ]
  },
  {
   "cell_type": "code",
   "execution_count": 31,
   "id": "fe908ffb-ef75-443c-96a5-82b3f15c3da2",
   "metadata": {},
   "outputs": [
    {
     "name": "stderr",
     "output_type": "stream",
     "text": [
      "C:\\Users\\manav\\AppData\\Local\\Temp\\ipykernel_22812\\3580827435.py:4: FutureWarning: Setting an item of incompatible dtype is deprecated and will raise in a future error of pandas. Value '-1.5' has dtype incompatible with int64, please explicitly cast to a compatible dtype first.\n",
      "  dataframe.loc[(dataframe[variable] < low_limit), variable] = low_limit\n",
      "C:\\Users\\manav\\AppData\\Local\\Temp\\ipykernel_22812\\3580827435.py:4: FutureWarning: Setting an item of incompatible dtype is deprecated and will raise in a future error of pandas. Value '-25775.875' has dtype incompatible with int64, please explicitly cast to a compatible dtype first.\n",
      "  dataframe.loc[(dataframe[variable] < low_limit), variable] = low_limit\n",
      "C:\\Users\\manav\\AppData\\Local\\Temp\\ipykernel_22812\\3580827435.py:4: FutureWarning: Setting an item of incompatible dtype is deprecated and will raise in a future error of pandas. Value '-5632.5' has dtype incompatible with int64, please explicitly cast to a compatible dtype first.\n",
      "  dataframe.loc[(dataframe[variable] < low_limit), variable] = low_limit\n"
     ]
    }
   ],
   "source": [
    "# Replace outliers with threshold values for numerical columns\n",
    "for col in num_cols:\n",
    "    replace_with_thresholds(df, col)"
   ]
  },
  {
   "cell_type": "code",
   "execution_count": 33,
   "id": "c285ee18-126e-4146-8a0a-eca27430c587",
   "metadata": {},
   "outputs": [
    {
     "name": "stdout",
     "output_type": "stream",
     "text": [
      "CNT_CHILDREN: False\n",
      "AMT_INCOME_TOTAL: False\n",
      "AMT_CREDIT: False\n",
      "AMT_ANNUITY: False\n",
      "AMT_GOODS_PRICE: False\n",
      "REGION_POPULATION_RELATIVE: False\n",
      "DAYS_BIRTH: False\n",
      "DAYS_EMPLOYED: False\n",
      "DAYS_REGISTRATION: False\n",
      "DAYS_ID_PUBLISH: False\n",
      "OWN_CAR_AGE: False\n",
      "CNT_FAM_MEMBERS: False\n",
      "HOUR_APPR_PROCESS_START: False\n",
      "EXT_SOURCE_1: False\n",
      "EXT_SOURCE_2: False\n",
      "EXT_SOURCE_3: False\n",
      "APARTMENTS_AVG: False\n",
      "BASEMENTAREA_AVG: False\n",
      "YEARS_BEGINEXPLUATATION_AVG: False\n",
      "YEARS_BUILD_AVG: False\n",
      "COMMONAREA_AVG: False\n",
      "ELEVATORS_AVG: False\n",
      "ENTRANCES_AVG: False\n",
      "FLOORSMAX_AVG: False\n",
      "FLOORSMIN_AVG: False\n",
      "LANDAREA_AVG: False\n",
      "LIVINGAPARTMENTS_AVG: False\n",
      "LIVINGAREA_AVG: False\n",
      "NONLIVINGAPARTMENTS_AVG: False\n",
      "NONLIVINGAREA_AVG: False\n",
      "APARTMENTS_MODE: False\n",
      "BASEMENTAREA_MODE: False\n",
      "YEARS_BEGINEXPLUATATION_MODE: False\n",
      "YEARS_BUILD_MODE: False\n",
      "COMMONAREA_MODE: False\n",
      "ELEVATORS_MODE: False\n",
      "ENTRANCES_MODE: False\n",
      "FLOORSMAX_MODE: False\n",
      "FLOORSMIN_MODE: False\n",
      "LANDAREA_MODE: False\n",
      "LIVINGAPARTMENTS_MODE: False\n",
      "LIVINGAREA_MODE: False\n",
      "NONLIVINGAPARTMENTS_MODE: False\n",
      "NONLIVINGAREA_MODE: False\n",
      "APARTMENTS_MEDI: False\n",
      "BASEMENTAREA_MEDI: False\n",
      "YEARS_BEGINEXPLUATATION_MEDI: False\n",
      "YEARS_BUILD_MEDI: False\n",
      "COMMONAREA_MEDI: False\n",
      "ELEVATORS_MEDI: False\n",
      "ENTRANCES_MEDI: False\n",
      "FLOORSMAX_MEDI: False\n",
      "FLOORSMIN_MEDI: False\n",
      "LANDAREA_MEDI: False\n",
      "LIVINGAPARTMENTS_MEDI: False\n",
      "LIVINGAREA_MEDI: False\n",
      "NONLIVINGAPARTMENTS_MEDI: False\n",
      "NONLIVINGAREA_MEDI: False\n",
      "TOTALAREA_MODE: False\n",
      "OBS_30_CNT_SOCIAL_CIRCLE: False\n",
      "DEF_30_CNT_SOCIAL_CIRCLE: False\n",
      "OBS_60_CNT_SOCIAL_CIRCLE: False\n",
      "DAYS_LAST_PHONE_CHANGE: False\n",
      "AMT_REQ_CREDIT_BUREAU_MON: False\n",
      "AMT_REQ_CREDIT_BUREAU_QRT: False\n",
      "AMT_REQ_CREDIT_BUREAU_YEAR: False\n"
     ]
    }
   ],
   "source": [
    "# Check again for outliers after replacing\n",
    "for col in num_cols:\n",
    "    print(f'{col}: {check_outlier(df, col)}')"
   ]
  },
  {
   "cell_type": "markdown",
   "id": "4e4684e5-9f9a-499d-b8fe-161dc4948697",
   "metadata": {},
   "source": [
    "## MANAV MALHOTRA\n",
    "## CT_CSI_DS_4863\n",
    "## manavmalhotra173@gmail.com\n",
    "## 9911420736"
   ]
  }
 ],
 "metadata": {
  "kernelspec": {
   "display_name": "Python 3 (ipykernel)",
   "language": "python",
   "name": "python3"
  },
  "language_info": {
   "codemirror_mode": {
    "name": "ipython",
    "version": 3
   },
   "file_extension": ".py",
   "mimetype": "text/x-python",
   "name": "python",
   "nbconvert_exporter": "python",
   "pygments_lexer": "ipython3",
   "version": "3.11.7"
  }
 },
 "nbformat": 4,
 "nbformat_minor": 5
}
